{
 "cells": [
  {
   "cell_type": "markdown",
   "metadata": {},
   "source": [
    "# Goal"
   ]
  },
  {
   "cell_type": "markdown",
   "metadata": {},
   "source": [
    "* [Visualize data](#visualize_data_cell)\n",
    "* [Classification models](#classification_models_cell) \n",
    "  * [Logistic regression](#logistic_regression_cell)\n",
    "  * [Convolutional neural network](#convolutional_neural_network_cell)  \n",
    "* [Video](#video_cell)"
   ]
  },
  {
   "cell_type": "code",
   "execution_count": 2,
   "metadata": {
    "collapsed": true
   },
   "outputs": [],
   "source": [
    "%matplotlib inline\n",
    "import matplotlib.pyplot as plt\n",
    "import pylab\n",
    "\n",
    "import os \n",
    "import pickle\n",
    "\n",
    "from PIL import Image\n",
    "from tabulate import tabulate\n",
    "import warnings\n",
    "\n",
    "import pandas as pd\n",
    "import numpy as np\n",
    "\n",
    "import random\n",
    "\n",
    "import time\n",
    "\n",
    "import io\n",
    "import base64\n",
    "from IPython.display import HTML\n",
    "\n",
    "from sknn.mlp import Classifier, Layer, Convolution\n",
    "from sklearn.linear_model import LogisticRegression\n",
    "from sklearn.cross_validation import StratifiedKFold\n",
    "from sklearn.metrics import confusion_matrix\n",
    "from sklearn.learning_curve import learning_curve"
   ]
  },
  {
   "cell_type": "markdown",
   "metadata": {},
   "source": [
    "## Utility Function"
   ]
  },
  {
   "cell_type": "code",
   "execution_count": 3,
   "metadata": {
    "collapsed": true
   },
   "outputs": [],
   "source": [
    "direction_map = {1: \"F\", \n",
    "                 6: \"FR\",\n",
    "                 7: \"FL\"}\n",
    "\n",
    "def plot_validation_curve(parameter,\n",
    "                          param_range, \n",
    "                          train_mean,\n",
    "                          train_std,\n",
    "                          test_mean,\n",
    "                          test_std):\n",
    "    \"\"\"\n",
    "    parameter: String. The X axis of the plot.\n",
    "    param_range: Array. X axis points.\n",
    "    train_mean: Array. Training average over points defined in param_range.\n",
    "    train_std: Array. Training standard deviation over points defined in param_range.\n",
    "    test_mean: Array. Test average over points defined in param_range.\n",
    "    train_std: Array. Training standard deviation over points defined in param_range.\n",
    "    \"\"\"\n",
    "    plt.plot(param_range, train_mean,\n",
    "             color='blue', marker='o',\n",
    "             markersize=5,\n",
    "             label='Training accuracy')\n",
    "    \n",
    "    plt.fill_between(param_range, train_mean + train_std,\n",
    "                     train_mean - train_std, alpha=0.15,\n",
    "                     color='blue')\n",
    "    \n",
    "    plt.plot(param_range, \n",
    "             test_mean, \n",
    "             color='green', \n",
    "             linestyle='--',\n",
    "             marker='s', \n",
    "             markersize=5,\n",
    "             label='Validation accuracy')\n",
    "    \n",
    "    plt.fill_between(param_range,\n",
    "                     test_mean + test_std,\n",
    "                     test_mean - test_std,\n",
    "                     alpha=0.15, \n",
    "                     color='green')\n",
    "    \n",
    "    plt.grid()\n",
    "    plt.xscale('log')\n",
    "    plt.legend(loc='lower right')\n",
    "    plt.xlabel('Parameter {0}'.format(parameter), fontdict={'fontsize': 15})   \n",
    "    plt.ylabel('Accuracy', fontdict={'fontsize': 15})\n",
    "    plt.ylim([0.6, 1.0])\n",
    "    plt.title('Validation Curve', fontdict={'fontsize': 20})\n",
    "    plt.show()\n",
    "\n",
    "    \n",
    "def plot_learning_curve(trian_sizes,\n",
    "                        train_mean,\n",
    "                        train_std,\n",
    "                        test_mean,\n",
    "                        test_std):\n",
    "    plt.plot(train_sizes, \n",
    "             train_mean,\n",
    "             color='blue', \n",
    "             marker='o',\n",
    "             markersize=5,\n",
    "             label='Training accuracy')\n",
    "    \n",
    "    plt.fill_between(train_sizes,\n",
    "                     train_mean + train_std,\n",
    "                     train_mean - train_std,\n",
    "                     alpha=0.15, \n",
    "                     color='blue')\n",
    "    \n",
    "    plt.plot(train_sizes, \n",
    "             test_mean,\n",
    "             color='green', \n",
    "             linestyle='--',\n",
    "             marker='s', \n",
    "             markersize=5,\n",
    "             label='Validation accuracy')\n",
    "    \n",
    "    plt.fill_between(train_sizes,\n",
    "                     test_mean + test_std,\n",
    "                     test_mean - test_std,\n",
    "                     alpha=0.15, \n",
    "                     color='green')\n",
    "    plt.grid()\n",
    "    plt.xlabel('Number of training samples')\n",
    "    plt.ylabel('Accuracy')\n",
    "    plt.legend(loc='lower right')\n",
    "    plt.ylim([0.6, 1.0])\n",
    "    plt.show()\n",
    "\n",
    "\n",
    "def get_data(classifier):\n",
    "    \n",
    "    \"\"\"\n",
    "    ** Purpose **\n",
    "    This function returns the images and the directions associated with \n",
    "    the images which were recorded while collecting data. \n",
    "    \n",
    "    ** Input **\n",
    "    classifier: 'cnn' or anything else. If 'cnn', we do not linearize the returned image. \n",
    "    \n",
    "    ** Left-right SYMMETRY **\n",
    "    The images have left-right symmetry. This function uses this knowledge to \n",
    "    synthesize new images. Each new image is a mirror reflection of the collected image, \n",
    "    with the corresponding direction appropriately changed {R->L. L->R, F->F}. \n",
    "    This has the effect of doubling our sample size. \n",
    "    \n",
    "    ** Image dimensions **\n",
    "    The images in the data files are stored as (120x160) numpy arrays. \n",
    "    When using the images for classification, we strip the top 20 rows of the image\n",
    "    and then downsize the image. The images which are returned are (25x40) numpy arrays. \n",
    "    Later in the code, when we have Image.resize(40, 25). \n",
    "    Here, 40 is the width (columns) and 25 is the height (rows) of the image. \n",
    "    \n",
    "    ** Structure of input files **\n",
    "    The images and the corresponding directions are in the following files:\n",
    "    '/home/shantanu/PycharmProjects/RCCar/training_images/data'\n",
    "    '/home/shantanu/PycharmProjects/RCCar/training_images/data1'\n",
    "    '/home/shantanu/PycharmProjects/RCCar/training_images/data2'\n",
    "    '/home/shantanu/PycharmProjects/RCCar/training_images/data3'\n",
    "    ... \n",
    "    \n",
    "    Each file has a dictionary of list of images and the corresponding directions\n",
    "    For example a file will typically have \n",
    "    {\"Directions\": [d1, d2, d3, ...], \"Images\": [im1, im2, im3, ...]}\n",
    "    \n",
    "    The directions and images are in sequence and can be used for classification by \n",
    "    classifiers which are known to perform well for sequential data (not done in this project). \n",
    "    \"\"\"\n",
    "    \n",
    "    data_store_path_common = '/home/shantanu/PycharmProjects/RCCar/training_images/data'\n",
    "    data_store_path = data_store_path_common\n",
    "    directions = []\n",
    "    images = []\n",
    "    data_set_count = 0\n",
    "    while os.path.isfile(data_store_path):\n",
    "        images_and_directions = pickle.load(open(data_store_path, \"rb\"))\n",
    "        directions += images_and_directions[\"Directions\"]\n",
    "        images +=  images_and_directions[\"Images\"]\n",
    "        data_set_count += 1\n",
    "        data_store_path = data_store_path_common + str(data_set_count)\n",
    "\n",
    "    def get_flipped_images(im_array, di):\n",
    "        \"\"\"\n",
    "        im_array: List of np.array corresponding to images\n",
    "        di: List of directions\n",
    "        Returns [flipped_images, flipped_directions] \n",
    "        where\n",
    "        flipped_images are the LEFT_RIGHT flipped version of images in im_array \n",
    "        and\n",
    "        flipped_directions are the flipped directions\n",
    "        defined by\n",
    "        flip_direction_map = {forward -> forward, right_forward -> left_forward, left_forward -> right_forward}\n",
    "        \"\"\"\n",
    "        flip_direction_map = {1: 1, # forward -> forward\n",
    "                              6: 7, # right_forward -> left_forward\n",
    "                              7: 6} # left_forward -> right_forward\n",
    "        flipped_images = [np.array(Image.fromarray(_im).transpose(Image.FLIP_LEFT_RIGHT)) for _im in im_array]\n",
    "        flipped_directions = [flip_direction_map[_d] for _d in di]\n",
    "        return [flipped_images, flipped_directions]\n",
    "\n",
    "\n",
    "    flipped_images, flipped_direcions = get_flipped_images(images, directions)\n",
    "    images += flipped_images\n",
    "    directions += flipped_direcions\n",
    "    \n",
    "    top_rows_to_discard = 20\n",
    "    height = 25\n",
    "    width = 40\n",
    "    if classifier == 'cnn':\n",
    "        return [np.array([np.asarray(Image.fromarray(_im[top_rows_to_discard:,:]).resize((width, height), Image.ANTIALIAS)) for _im in images]), \n",
    "                np.array([_d for _d in directions])]\n",
    "    else:\n",
    "        d = np.array([_direc for _direc in directions])\n",
    "        i = np.array([])\n",
    "        ar_shape = (1, width*height)\n",
    "        for _im in images:\n",
    "            temp_im = np.asarray(Image.fromarray(_im[top_rows_to_discard:,:]).resize((width, height), Image.ANTIALIAS)).reshape(ar_shape)\n",
    "            if i.size == 0:\n",
    "                i = temp_im\n",
    "            else:\n",
    "                i = np.append(i, temp_im, axis=0)\n",
    "        return [i, d]"
   ]
  },
  {
   "cell_type": "markdown",
   "metadata": {},
   "source": [
    "<a id='visualize_data_cell'></a>"
   ]
  },
  {
   "cell_type": "markdown",
   "metadata": {},
   "source": [
    "## Visualize data"
   ]
  },
  {
   "cell_type": "code",
   "execution_count": 4,
   "metadata": {
    "collapsed": false
   },
   "outputs": [
    {
     "data": {
      "image/png": "[encoded data removed]",
      "text/plain": [
       "<matplotlib.figure.Figure at 0x5375310>"
      ]
     },
     "metadata": {},
     "output_type": "display_data"
    }
   ],
   "source": [
    "images, directions = get_data('cnn')\n",
    "num_of_images_to_show = 10\n",
    "num_of_samples = len(images)\n",
    "image_idx = random.sample(xrange(num_of_samples), num_of_images_to_show)\n",
    "\n",
    "for index, (image, direction) in enumerate(zip(images[image_idx], directions[image_idx])):\n",
    "    pylab.subplot(2, num_of_images_to_show, index + num_of_images_to_show + 1)\n",
    "    pylab.axis('off')\n",
    "    pylab.subplots_adjust(left=6.0, right=9.0)\n",
    "    pylab.imshow(image, cmap=pylab.cm.gray_r, interpolation='nearest')\n",
    "    pylab.title(direction_map[direction])"
   ]
  },
  {
   "cell_type": "code",
   "execution_count": 5,
   "metadata": {
    "collapsed": false
   },
   "outputs": [
    {
     "data": {
      "image/png": "[encoded data removed]",
      "text/plain": [
       "<matplotlib.figure.Figure at 0x1be1950>"
      ]
     },
     "metadata": {},
     "output_type": "display_data"
    }
   ],
   "source": [
    "classes = np.unique(directions)\n",
    "bar_width = 1.0\n",
    "opacity=0.4\n",
    "plt.bar(np.arange(len(np.unique(directions))), \n",
    "        tuple([np.sum(directions==_d) for _d in classes]), \n",
    "        bar_width,\n",
    "        alpha=opacity,\n",
    "        color='r')\n",
    "plt.xticks([0.5, 1.5, 2.5], [direction_map[_d] for _d in classes])\n",
    "plt.show()"
   ]
  },
  {
   "cell_type": "code",
   "execution_count": 6,
   "metadata": {
    "collapsed": false
   },
   "outputs": [
    {
     "name": "stdout",
     "output_type": "stream",
     "text": [
      "Number of samples classified as Forward = 0.455357142857 \n",
      "Number of samples classified as Right-Forward = 0.272321428571 \n",
      "Number of samples classified as Left-Forward = 0.272321428571 \n"
     ]
    }
   ],
   "source": [
    "print \"Number of samples classified as Forward = {0} \".format(np.sum(directions == 1) * 1./len(directions))\n",
    "print \"Number of samples classified as Right-Forward = {0} \".format(np.sum(directions == 6) * 1./len(directions))\n",
    "print \"Number of samples classified as Left-Forward = {0} \".format(np.sum(directions == 7) * 1./len(directions))"
   ]
  },
  {
   "cell_type": "markdown",
   "metadata": {},
   "source": [
    "From the above, we see that 'Forward' is the most frequent class appearing in the sample, with $45.5\\%$ of all the samples classified as 'Forward'. Any machine learning model which we consider, should aim to improve on this base line accuracy of $45.5\\%$"
   ]
  },
  {
   "cell_type": "markdown",
   "metadata": {},
   "source": [
    "<a id='classification_models_cell'></a>"
   ]
  },
  {
   "cell_type": "markdown",
   "metadata": {},
   "source": [
    "## Classification models"
   ]
  },
  {
   "cell_type": "markdown",
   "metadata": {},
   "source": [
    "<a id='logistic_regression_cell'></a>"
   ]
  },
  {
   "cell_type": "markdown",
   "metadata": {},
   "source": [
    "### Logistic regression"
   ]
  },
  {
   "cell_type": "markdown",
   "metadata": {},
   "source": [
    "* Library: Here, we use [sklearn.linear_model.LogisticRegression](http://scikit-learn.org/stable/modules/generated/sklearn.linear_model.LogisticRegression.html) for the purpose of classifying the images to their corresponding directions.\n",
    "* Hyper-parameters: We tune our model on the _inverse_ of the regularization parameter: C. \n",
    "* For each grid point, we used [StratifiedKFold](http://scikit-learn.org/stable/modules/generated/sklearn.cross_validation.StratifiedKFold.html), with default 3 folds, to find the average and standard deviation of training scores and validation sores. \n",
    "  * Because we are tuning over only one hyper-parameter, we could have used [sklearn.learning_curve.learning_curve](http://scikit-learn.org/stable/modules/learning_curve.html) for this purpose, but we did not because we wanted a generic way which could handle mupliple hyper-parameters (which will be important when we discuss [convolutional neural network model](#convolutional_neural_network_cell)).\n",
    "* Storage: The training and validation scores for each grid point is pickled as a pandas dataframe. "
   ]
  },
  {
   "cell_type": "code",
   "execution_count": 9,
   "metadata": {
    "collapsed": true
   },
   "outputs": [],
   "source": [
    "\"\"\"\n",
    "Grid search\n",
    "\"\"\"\n",
    "params = {'C': [0.001, 0.01, 0.1, 1.0, 10.0, 100.0]}\n",
    "cols = ['C', 'avg_training_score', 'std_training_score', 'avg_test_score', 'std_test_score']\n",
    "lr_df = pd.DataFrame(columns=cols)\n",
    "\n",
    "X, y = get_data('lr')\n",
    "for _C in params['C']:\n",
    "    training_score = []\n",
    "    test_score = []\n",
    "    for train, test in StratifiedKFold(y):\n",
    "        lr = LogisticRegression(C=_C)\n",
    "        x_tr, x_te = X[train], X[test]\n",
    "        y_tr, y_te = y[train], y[test]\n",
    "        lr.fit(x_tr/255., y_tr)\n",
    "        training_score.append(lr.score(x_tr/255., y_tr))\n",
    "        test_score.append(lr.score(x_te/255., y_te))\n",
    "    lr_df = lr_df.append({'C': _C,\n",
    "                          'avg_training_score': np.average(training_score),\n",
    "                          'std_training_score': np.std(training_score),\n",
    "                          'avg_test_score': np.average(test_score),\n",
    "                          'std_test_score': np.std(test_score)},\n",
    "                         ignore_index=True)\n",
    "\n",
    "lr_para_score_path = '/home/shantanu/PycharmProjects/RCCar/lr_para_scores.pkl'\n",
    "with open(lr_para_score_path, 'wb') as f:\n",
    "    pickle.dump(lr_df, f)"
   ]
  },
  {
   "cell_type": "code",
   "execution_count": 10,
   "metadata": {
    "collapsed": false
   },
   "outputs": [
    {
     "data": {
      "text/html": [
       "<div>\n",
       "<table border=\"1\" class=\"dataframe\">\n",
       "  <thead>\n",
       "    <tr style=\"text-align: right;\">\n",
       "      <th></th>\n",
       "      <th>C</th>\n",
       "      <th>avg_training_score</th>\n",
       "      <th>std_training_score</th>\n",
       "      <th>avg_test_score</th>\n",
       "      <th>std_test_score</th>\n",
       "    </tr>\n",
       "  </thead>\n",
       "  <tbody>\n",
       "    <tr>\n",
       "      <th>0</th>\n",
       "      <td>0.001</td>\n",
       "      <td>0.682</td>\n",
       "      <td>0.040</td>\n",
       "      <td>0.676</td>\n",
       "      <td>0.060</td>\n",
       "    </tr>\n",
       "    <tr>\n",
       "      <th>5</th>\n",
       "      <td>100.000</td>\n",
       "      <td>0.996</td>\n",
       "      <td>0.002</td>\n",
       "      <td>0.681</td>\n",
       "      <td>0.037</td>\n",
       "    </tr>\n",
       "    <tr>\n",
       "      <th>4</th>\n",
       "      <td>10.000</td>\n",
       "      <td>0.985</td>\n",
       "      <td>0.004</td>\n",
       "      <td>0.712</td>\n",
       "      <td>0.038</td>\n",
       "    </tr>\n",
       "    <tr>\n",
       "      <th>1</th>\n",
       "      <td>0.010</td>\n",
       "      <td>0.793</td>\n",
       "      <td>0.038</td>\n",
       "      <td>0.730</td>\n",
       "      <td>0.074</td>\n",
       "    </tr>\n",
       "    <tr>\n",
       "      <th>2</th>\n",
       "      <td>0.100</td>\n",
       "      <td>0.851</td>\n",
       "      <td>0.033</td>\n",
       "      <td>0.750</td>\n",
       "      <td>0.070</td>\n",
       "    </tr>\n",
       "    <tr>\n",
       "      <th>3</th>\n",
       "      <td>1.000</td>\n",
       "      <td>0.916</td>\n",
       "      <td>0.017</td>\n",
       "      <td>0.752</td>\n",
       "      <td>0.040</td>\n",
       "    </tr>\n",
       "  </tbody>\n",
       "</table>\n",
       "</div>"
      ],
      "text/plain": [
       "         C  avg_training_score  std_training_score  avg_test_score  \\\n",
       "0    0.001               0.682               0.040           0.676   \n",
       "5  100.000               0.996               0.002           0.681   \n",
       "4   10.000               0.985               0.004           0.712   \n",
       "1    0.010               0.793               0.038           0.730   \n",
       "2    0.100               0.851               0.033           0.750   \n",
       "3    1.000               0.916               0.017           0.752   \n",
       "\n",
       "   std_test_score  \n",
       "0           0.060  \n",
       "5           0.037  \n",
       "4           0.038  \n",
       "1           0.074  \n",
       "2           0.070  \n",
       "3           0.040  "
      ]
     },
     "execution_count": 10,
     "metadata": {},
     "output_type": "execute_result"
    }
   ],
   "source": [
    "lr_para_score_path = '/home/shantanu/PycharmProjects/RCCar/lr_para_scores.pkl'\n",
    "with open(lr_para_score_path, 'rb') as f:\n",
    "    lr_df= pickle.load(f)\n",
    "    \n",
    "#print tabulate(lr_df, headers='keys', tablefmt='fancy_grid')\n",
    "\n",
    "lr_df = np.round(lr_df, decimals=3)\n",
    "lr_df.sort(['avg_test_score']).tail(10)"
   ]
  },
  {
   "cell_type": "code",
   "execution_count": 13,
   "metadata": {
    "collapsed": false
   },
   "outputs": [
    {
     "data": {
      "image/png": "[encoded data removed]",
      "text/plain": [
       "<matplotlib.figure.Figure at 0x64ae810>"
      ]
     },
     "metadata": {},
     "output_type": "display_data"
    }
   ],
   "source": [
    "\"\"\"\n",
    "Validation curve\n",
    "\"\"\"\n",
    "plot_validation_curve('C',\n",
    "                      lr_df['C'].values,\n",
    "                      lr_df['avg_training_score'].values,\n",
    "                      lr_df['std_training_score'].values,\n",
    "                      lr_df['avg_test_score'].values,\n",
    "                      lr_df['std_test_score'].values)"
   ]
  },
  {
   "cell_type": "markdown",
   "metadata": {},
   "source": [
    "From the above validation curve, we see that the best performance of the model takes place for $$C = 1.0$$ for which we get the optimal validation accuracy of $75.1\\%$. For higher values of $C$ (that is smaller regularization strength), we see that there is significant overfitting as the training accuracy reaches $99.5\\%$ where as the validation accuracy dips to $68.0\\%$ for $C=100.0$. "
   ]
  },
  {
   "cell_type": "code",
   "execution_count": 14,
   "metadata": {
    "collapsed": false
   },
   "outputs": [
    {
     "data": {
      "image/png": "[encoded data removed]",
      "text/plain": [
       "<matplotlib.figure.Figure at 0x60aced0>"
      ]
     },
     "metadata": {},
     "output_type": "display_data"
    }
   ],
   "source": [
    "\"\"\"\n",
    "Learning curve\n",
    "\"\"\"\n",
    "C_best = 1.0\n",
    "lr_clf_best = LogisticRegression(C=C_best)\n",
    "\n",
    "X_train, y_train = get_data('lr')\n",
    "train_sizes, train_scores, test_scores = learning_curve(estimator=lr_clf_best, \n",
    "                                                        X=X_train/255.,\n",
    "                                                        y=y_train,\n",
    "                                                        train_sizes=np.linspace(0.1, 1.0, 10),\n",
    "                                                        cv=10)\n",
    "\n",
    "plot_learning_curve(train_sizes,\n",
    "                    np.mean(train_scores, axis=1),\n",
    "                    np.std(train_scores, axis=1),\n",
    "                    np.mean(test_scores, axis=1),\n",
    "                    np.std(test_scores, axis=1))"
   ]
  },
  {
   "cell_type": "markdown",
   "metadata": {},
   "source": [
    "In order to see if collecting more data can might help in improving the accuracy of the logiestic regression classifier, we plot above the learning curve. We see that the validation accuracy curve is almost flat at the end and so we dont expect the accuracy to improve much further. \n",
    "\n",
    "Also, even for the best chosen hyper-parameter, $C$, we see there is a significant gap between the training and test curve, implying over-fitting. "
   ]
  },
  {
   "cell_type": "code",
   "execution_count": 32,
   "metadata": {
    "collapsed": true
   },
   "outputs": [],
   "source": [
    "\"\"\"\n",
    "Pickle cnn_clf_best\n",
    "\"\"\"\n",
    "C_best = 1.0\n",
    "lr_clf_best = LogisticRegression(C=C_best)\n",
    "\n",
    "X, y = get_data('lr')\n",
    "lr_clf_best.fit(X/255., y)\n",
    "\n",
    "lr_classifier_path = '/home/shantanu/PycharmProjects/RCCar/lr_classifier.pkl'\n",
    "with open(lr_classifier_path, 'wb') as f:\n",
    "    pickle.dump(lr_clf_best, f)"
   ]
  },
  {
   "cell_type": "markdown",
   "metadata": {},
   "source": [
    "### Logestic regression summary"
   ]
  },
  {
   "cell_type": "markdown",
   "metadata": {},
   "source": [
    "The best validation accuracy for logestic regression is found to be $75.1\\%$. This is an improvement over the base case of $45.5\\%$. \n",
    "\n",
    "From the learning curve, we see that increasing the number of training samples in unlikely to improve the accuracy of the model."
   ]
  },
  {
   "cell_type": "markdown",
   "metadata": {},
   "source": [
    "<a id='convolutional_neural_network_cell'></a>"
   ]
  },
  {
   "cell_type": "markdown",
   "metadata": {},
   "source": [
    "## Convolutional neural network\n",
    "* Library: We use [sknn.mlp.Classifier](http://scikit-neuralnetwork.readthedocs.io/en/latest/module_mlp.html#classifier) with a convolutional layer for the purpose of classifying the images to their corresponding directions. \n",
    "  * Using pool_size in Convolution layer caused an error: TypeError: max_pool_2d() got an unexpected keyword argument 'mode'.  \n",
    "* Hyper-parameters: The hyper-parameters which we tuned over is given in the dictionary: \"params\". For each grid point, we used [StratifiedKFold](http://scikit-learn.org/stable/modules/generated/sklearn.cross_validation.StratifiedKFold.html), with default 3 folds, to find the average and standard deviation of training scores and validation sores. The reason we used StratifiedKFold is because the sample data for which the images are classified as \"Forward\" are almost double as compared to the number of images classified to go \"Right-Forward\" or \"Left-Forward\".\n",
    "  * Instead of using \"for loop\" for performing grid search over the parameter space, we could have used [GridSearchCV](http://scikit-neuralnetwork.readthedocs.io/en/latest/guide_sklearn.html#grid-search). The reason we did not do this is because GridSearchCV does not return the statistics of training scores, and only returns the statistics of validation scores (I might be wrong in this but this is what my current understanding is.).   \n",
    "* Storage: The training and validation scores for each grid point is pickled as a pandas dataframe. \n",
    "* Run time: It took approximately 1750 minutes of wall clock time on a personal laptop (without GPU)."
   ]
  },
  {
   "cell_type": "code",
   "execution_count": 21,
   "metadata": {
    "collapsed": true
   },
   "outputs": [],
   "source": [
    "# To run \n",
    "#  run_grid_search_for_cnn = True\n",
    "#  store_grid_score_cnn = True\n",
    "# WARNING: This cell takes around 2000 minutes to run!!!\n",
    "\n",
    "warnings.filterwarnings('ignore')\n",
    "params = {'weight_decay': [0.001, 0.1, 1.0, 10.0, 100],\n",
    "          'learning_rate': [0.001, 0.005, 0.01, 0.05, 0.1],\n",
    "          'dropout_rate': [0.05, 0.1, 0.15, 0.2, 0.25],\n",
    "          'units': [50, 100, 150, 200, 250]}\n",
    "\n",
    "cols = ['weight_decay', 'learning_rate', 'dropout_rate', 'units',\n",
    "        'avg_training_score', 'std_training_score', 'avg_test_score', 'std_test_score']\n",
    "cnn_df = pd.DataFrame(columns=cols)\n",
    "\n",
    "X, y = get_data('cnn')\n",
    "count = 0\n",
    "t0 = time.clock()\n",
    " \n",
    "run_grid_search_for_cnn = False\n",
    "\n",
    "if run_grid_search_for_cnn:\n",
    "    for _w in params['weight_decay']:\n",
    "        for _l in params['learning_rate']:\n",
    "            for _d in params['dropout_rate']:\n",
    "                for _u in params['units']:\n",
    "                    training_score = []\n",
    "                    test_score = []\n",
    "                    for train, test in StratifiedKFold(y):\n",
    "                        nn = Classifier(\n",
    "                            layers=[\n",
    "                                Convolution('Rectifier', channels=8, kernel_shape=(15, 15)),\n",
    "                                Layer('Rectifier', units=_u),\n",
    "                                Layer('Softmax')],\n",
    "                            n_stable=10,\n",
    "                            regularize='L2',\n",
    "                            dropout_rate=_d,\n",
    "                            weight_decay=_w,\n",
    "                            learning_rate=_l,\n",
    "                            #callback={'on_epoch_finish': on_epoch_finish},\n",
    "                            n_iter=100,\n",
    "                            batch_size=10)\n",
    "                        x_tr, x_te = X[train], X[test]\n",
    "                        y_tr, y_te = y[train], y[test]\n",
    "                        nn.fit(x_tr/255., y_tr)\n",
    "                        training_score.append(nn.score(x_tr/255., y_tr))\n",
    "                        test_score.append(nn.score(x_te/255., y_te))\n",
    "                        count += 1\n",
    "                        print count\n",
    "                    cnn_df = cnn_df.append({'weight_decay': _w,\n",
    "                                            'learning_rate': _l,\n",
    "                                            'dropout_rate': _d,\n",
    "                                            'units': _u,\n",
    "                                            'avg_training_score': np.average(training_score),\n",
    "                                            'std_training_score': np.std(training_score),\n",
    "                                            'avg_test_score': np.average(test_score),\n",
    "                                            'std_test_score': np.std(test_score)},\n",
    "                                           ignore_index=True)\n",
    "                    print (time.clock() - t0) / 60.0\n",
    "\n",
    "store_grid_score_cnn = False\n",
    "if store_grid_score_cnn:\n",
    "    cnn_para_score_path = '/home/shantanu/PycharmProjects/RCCar/cnn_para_scores.pkl'\n",
    "    with open(cnn_para_score_path, 'wb') as f:\n",
    "\n",
    "        pickle.dump(cnn_df, f)"
   ]
  },
  {
   "cell_type": "code",
   "execution_count": 17,
   "metadata": {
    "collapsed": false
   },
   "outputs": [
    {
     "data": {
      "text/html": [
       "<div>\n",
       "<table border=\"1\" class=\"dataframe\">\n",
       "  <thead>\n",
       "    <tr style=\"text-align: right;\">\n",
       "      <th></th>\n",
       "      <th>weight_decay</th>\n",
       "      <th>learning_rate</th>\n",
       "      <th>dropout_rate</th>\n",
       "      <th>units</th>\n",
       "      <th>avg_training_score</th>\n",
       "      <th>std_training_score</th>\n",
       "      <th>avg_test_score</th>\n",
       "      <th>std_test_score</th>\n",
       "    </tr>\n",
       "  </thead>\n",
       "  <tbody>\n",
       "    <tr>\n",
       "      <th>426</th>\n",
       "      <td>10.000</td>\n",
       "      <td>0.010</td>\n",
       "      <td>0.05</td>\n",
       "      <td>100</td>\n",
       "      <td>0.879</td>\n",
       "      <td>0.017</td>\n",
       "      <td>0.835</td>\n",
       "      <td>0.034</td>\n",
       "    </tr>\n",
       "    <tr>\n",
       "      <th>30</th>\n",
       "      <td>0.001</td>\n",
       "      <td>0.005</td>\n",
       "      <td>0.10</td>\n",
       "      <td>50</td>\n",
       "      <td>0.849</td>\n",
       "      <td>0.012</td>\n",
       "      <td>0.837</td>\n",
       "      <td>0.012</td>\n",
       "    </tr>\n",
       "    <tr>\n",
       "      <th>179</th>\n",
       "      <td>0.100</td>\n",
       "      <td>0.010</td>\n",
       "      <td>0.05</td>\n",
       "      <td>250</td>\n",
       "      <td>0.885</td>\n",
       "      <td>0.023</td>\n",
       "      <td>0.837</td>\n",
       "      <td>0.017</td>\n",
       "    </tr>\n",
       "    <tr>\n",
       "      <th>277</th>\n",
       "      <td>1.000</td>\n",
       "      <td>0.005</td>\n",
       "      <td>0.05</td>\n",
       "      <td>150</td>\n",
       "      <td>0.866</td>\n",
       "      <td>0.012</td>\n",
       "      <td>0.837</td>\n",
       "      <td>0.017</td>\n",
       "    </tr>\n",
       "    <tr>\n",
       "      <th>570</th>\n",
       "      <td>100.000</td>\n",
       "      <td>0.010</td>\n",
       "      <td>0.25</td>\n",
       "      <td>50</td>\n",
       "      <td>0.857</td>\n",
       "      <td>0.015</td>\n",
       "      <td>0.837</td>\n",
       "      <td>0.019</td>\n",
       "    </tr>\n",
       "    <tr>\n",
       "      <th>187</th>\n",
       "      <td>0.100</td>\n",
       "      <td>0.010</td>\n",
       "      <td>0.15</td>\n",
       "      <td>150</td>\n",
       "      <td>0.862</td>\n",
       "      <td>0.013</td>\n",
       "      <td>0.839</td>\n",
       "      <td>0.028</td>\n",
       "    </tr>\n",
       "    <tr>\n",
       "      <th>403</th>\n",
       "      <td>10.000</td>\n",
       "      <td>0.005</td>\n",
       "      <td>0.05</td>\n",
       "      <td>200</td>\n",
       "      <td>0.882</td>\n",
       "      <td>0.013</td>\n",
       "      <td>0.839</td>\n",
       "      <td>0.012</td>\n",
       "    </tr>\n",
       "    <tr>\n",
       "      <th>416</th>\n",
       "      <td>10.000</td>\n",
       "      <td>0.005</td>\n",
       "      <td>0.20</td>\n",
       "      <td>100</td>\n",
       "      <td>0.858</td>\n",
       "      <td>0.005</td>\n",
       "      <td>0.839</td>\n",
       "      <td>0.010</td>\n",
       "    </tr>\n",
       "    <tr>\n",
       "      <th>438</th>\n",
       "      <td>10.000</td>\n",
       "      <td>0.010</td>\n",
       "      <td>0.15</td>\n",
       "      <td>200</td>\n",
       "      <td>0.873</td>\n",
       "      <td>0.007</td>\n",
       "      <td>0.839</td>\n",
       "      <td>0.012</td>\n",
       "    </tr>\n",
       "    <tr>\n",
       "      <th>189</th>\n",
       "      <td>0.100</td>\n",
       "      <td>0.010</td>\n",
       "      <td>0.15</td>\n",
       "      <td>250</td>\n",
       "      <td>0.873</td>\n",
       "      <td>0.019</td>\n",
       "      <td>0.842</td>\n",
       "      <td>0.013</td>\n",
       "    </tr>\n",
       "  </tbody>\n",
       "</table>\n",
       "</div>"
      ],
      "text/plain": [
       "     weight_decay  learning_rate  dropout_rate  units  avg_training_score  \\\n",
       "426        10.000          0.010          0.05    100               0.879   \n",
       "30          0.001          0.005          0.10     50               0.849   \n",
       "179         0.100          0.010          0.05    250               0.885   \n",
       "277         1.000          0.005          0.05    150               0.866   \n",
       "570       100.000          0.010          0.25     50               0.857   \n",
       "187         0.100          0.010          0.15    150               0.862   \n",
       "403        10.000          0.005          0.05    200               0.882   \n",
       "416        10.000          0.005          0.20    100               0.858   \n",
       "438        10.000          0.010          0.15    200               0.873   \n",
       "189         0.100          0.010          0.15    250               0.873   \n",
       "\n",
       "     std_training_score  avg_test_score  std_test_score  \n",
       "426               0.017           0.835           0.034  \n",
       "30                0.012           0.837           0.012  \n",
       "179               0.023           0.837           0.017  \n",
       "277               0.012           0.837           0.017  \n",
       "570               0.015           0.837           0.019  \n",
       "187               0.013           0.839           0.028  \n",
       "403               0.013           0.839           0.012  \n",
       "416               0.005           0.839           0.010  \n",
       "438               0.007           0.839           0.012  \n",
       "189               0.019           0.842           0.013  "
      ]
     },
     "execution_count": 17,
     "metadata": {},
     "output_type": "execute_result"
    }
   ],
   "source": [
    "cnn_para_score_path = '/home/shantanu/PycharmProjects/RCCar/cnn_para_scores.pkl'\n",
    "with open(cnn_para_score_path, 'rb') as f:\n",
    "    cnn_df= pickle.load(f)\n",
    "\n",
    "cnn_df = np.round(cnn_df, decimals=3)\n",
    "cnn_df.sort(['avg_test_score']).tail(10)"
   ]
  },
  {
   "cell_type": "markdown",
   "metadata": {},
   "source": [
    "From the above table, we see that for convolutional neural network, we get best test score of $84.2\\%$. The optimal parameters corresponding to the best score are: $$$$ $$weight\\_decay = 0.10$$ $$learning\\_rate =  0.01$$ $$dropout\\_rate = 0.15$$ $$units = 250$$"
   ]
  },
  {
   "cell_type": "code",
   "execution_count": null,
   "metadata": {
    "collapsed": true
   },
   "outputs": [],
   "source": [
    "\"\"\"\n",
    "Learning curve\n",
    "WARNING: It takes around 60 minutes to run this cell. \n",
    "\"\"\"\n",
    "\n",
    "weight_decay_best = 0.1\n",
    "learning_rate_best = 0.01\n",
    "dropout_rate_best = 0.15\n",
    "units_best = 250\n",
    "\n",
    "cnn_clf_best = Classifier(layers=[Convolution('Rectifier', channels=8, kernel_shape=(15, 15)),\n",
    "                                  Layer('Rectifier', units=units_best),\n",
    "                                  Layer('Softmax')],\n",
    "                          n_stable=10,\n",
    "                          regularize='L2',\n",
    "                          dropout_rate=dropout_rate_best,\n",
    "                          weight_decay=weight_decay_best,\n",
    "                          learning_rate=learning_rate_best,\n",
    "                          #callback={'on_epoch_finish': on_epoch_finish},\n",
    "                          n_iter=100,\n",
    "                          batch_size=10)\n",
    "\n",
    "\n",
    "X_train, y_train = get_data('cnn')\n",
    "train_sizes, train_scores, test_scores = learning_curve(estimator=cnn_clf_best, \n",
    "                                                        X=X_train/255.,\n",
    "                                                        y=y_train,\n",
    "                                                        train_sizes=np.linspace(0.1, 1.0, 10),\n",
    "                                                        cv=10)\n",
    "    \n",
    "cnn_learning_curve = {'train_sizes': train_sizes,\n",
    "                     'train_scores': train_scores,\n",
    "                     'test_scores': test_scores}\n",
    "\n",
    "cnn_learning_curve_path = '/home/shantanu/PycharmProjects/RCCar/cnn_learning_curve.pkl'\n",
    "with open(cnn_learning_curve_path, 'wb') as f:\n",
    "    pickle.dump(cnn_learning_curve, f)"
   ]
  },
  {
   "cell_type": "code",
   "execution_count": 23,
   "metadata": {
    "collapsed": false
   },
   "outputs": [
    {
     "data": {
      "image/png": "[encoded data removed]",
      "text/plain": [
       "<matplotlib.figure.Figure at 0x5389950>"
      ]
     },
     "metadata": {},
     "output_type": "display_data"
    }
   ],
   "source": [
    "\"\"\"\n",
    "Learning curve\n",
    "\"\"\"\n",
    "cnn_learning_curve_path = '/home/shantanu/PycharmProjects/RCCar/cnn_learning_curve.pkl'\n",
    "with open(cnn_learning_curve_path, 'rb') as f:\n",
    "    cnn_learning_curve = pickle.load(f)\n",
    "        \n",
    "plot_learning_curve(cnn_learning_curve['train_sizes'],\n",
    "                    np.mean(cnn_learning_curve['train_scores'], axis=1),\n",
    "                    np.std(cnn_learning_curve['train_scores'], axis=1),\n",
    "                    np.mean(cnn_learning_curve['test_scores'], axis=1),\n",
    "                    np.std(cnn_learning_curve['test_scores'], axis=1))"
   ]
  },
  {
   "cell_type": "markdown",
   "metadata": {},
   "source": [
    "In order to see if collecting more data can might help in improving the accuracy of the convolutional neural network classifier, we plot above the learning curve. We see that the validation accuracy curve is an increasing function of the training samples at the end. So we expect the accuracy to improve further if we collect more sample data. \n",
    "Also, we see there is a gap between the training and test curve, implying over-fitting. "
   ]
  },
  {
   "cell_type": "code",
   "execution_count": 31,
   "metadata": {
    "collapsed": false
   },
   "outputs": [
    {
     "name": "stderr",
     "output_type": "stream",
     "text": [
      "WARNING:sknn:  - Reshaping input array from (448, 25, 40) to (448, 1, 25, 40).\n"
     ]
    }
   ],
   "source": [
    "\"\"\"\n",
    "Pickle cnn_clf_best\n",
    "\"\"\"\n",
    "\n",
    "weight_decay_best = 0.1\n",
    "learning_rate_best = 0.01\n",
    "dropout_rate_best = 0.15\n",
    "units_best = 250\n",
    "\n",
    "cnn_clf_best = Classifier(layers=[Convolution('Rectifier', channels=8, kernel_shape=(15, 15)),\n",
    "                                  Layer('Rectifier', units=units_best),\n",
    "                                  Layer('Softmax')],\n",
    "                          n_stable=10,\n",
    "                          regularize='L2',\n",
    "                          dropout_rate=dropout_rate_best,\n",
    "                          weight_decay=weight_decay_best,\n",
    "                          learning_rate=learning_rate_best,\n",
    "                          #callback={'on_epoch_finish': on_epoch_finish},\n",
    "                          n_iter=100,\n",
    "                          batch_size=10)\n",
    "\n",
    "X, y = get_data('cnn')\n",
    "cnn_clf_best.fit(X/255., y)\n",
    "\n",
    "cnn_classifier_path = '/home/shantanu/PycharmProjects/RCCar/cnn_classifier.pkl'\n",
    "with open(cnn_classifier_path, 'wb') as f:\n",
    "    pickle.dump(cnn_clf_best, f)"
   ]
  },
  {
   "cell_type": "markdown",
   "metadata": {},
   "source": [
    "### Convolutional neural network summary"
   ]
  },
  {
   "cell_type": "markdown",
   "metadata": {},
   "source": [
    "The best validation accuracy for convolutional neural network is found to be $84.2\\%$. This is a marked improvement over the base case of $45.5\\%$ and also a substantial improvement over the $75.1\\%$ acuracy reached by logestic regression. From the plot of the learning curve, we see that increasing the number of training samples in likely to improve the accuracy of the model. "
   ]
  },
  {
   "cell_type": "code",
   "execution_count": null,
   "metadata": {
    "collapsed": true
   },
   "outputs": [],
   "source": []
  }
 ],
 "metadata": {
  "kernelspec": {
   "display_name": "Python 2",
   "language": "python",
   "name": "python2"
  },
  "language_info": {
   "codemirror_mode": {
    "name": "ipython",
    "version": 2
   },
   "file_extension": ".py",
   "mimetype": "text/x-python",
   "name": "python",
   "nbconvert_exporter": "python",
   "pygments_lexer": "ipython2",
   "version": "2.7.3"
  }
 },
 "nbformat": 4,
 "nbformat_minor": 0
}
